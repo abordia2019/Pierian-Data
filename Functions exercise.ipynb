{
 "cells": [
  {
   "cell_type": "code",
   "execution_count": 6,
   "metadata": {},
   "outputs": [],
   "source": [
    "def pig_latin(word):\n",
    "    '''\n",
    "    document : functions to implement ping latin\n",
    "    '''\n",
    "    first_letter = word[0]\n",
    "    if first_letter in 'aeiou':\n",
    "        pig_word = word + 'ay'\n",
    "    else:\n",
    "        pig_word = word[1:] + word[0] + 'ay' \n",
    "        \n",
    "        return pig_word\n"
   ]
  },
  {
   "cell_type": "code",
   "execution_count": 5,
   "metadata": {},
   "outputs": [
    {
     "data": {
      "text/plain": [
       "'atascienceday'"
      ]
     },
     "execution_count": 5,
     "metadata": {},
     "output_type": "execute_result"
    }
   ],
   "source": [
    "pig_latin('datascience')"
   ]
  },
  {
   "cell_type": "code",
   "execution_count": null,
   "metadata": {},
   "outputs": [],
   "source": [
    "#function 1 Print 'Hello World'\n",
    "def myfunc():\n",
    "  print(\"Hello World\")\n",
    "\n",
    "\n",
    "#function 2 Print 'Hello Name'\n",
    "def myfunc(name):\n",
    " print('Hello {}'.format(name))\n",
    "\n",
    "#Function 3 simple boolean\n",
    "def myfunc(name):\n",
    "    if name == True:\n",
    "        return 'Hello'\n",
    "    elif name == False:\n",
    "        return 'Goodbye'\n",
    "    \n",
    "#function 4 using booleans\n",
    "def myfunc(x,y,z):\n",
    "    if z == True:\n",
    "        return x\n",
    "    else:\n",
    "        return y\n",
    "    \n",
    "#function 6 even\n",
    "def is_even(n):\n",
    "    if n%2 == 0:\n",
    "        return True\n",
    "    else:\n",
    "        return False\n",
    "    \n",
    "#function 7 is greater\n",
    "\n",
    "def is_greater(c,d):\n",
    "    if c>d:\n",
    "        return True\n",
    "    else:\n",
    "        return False\n",
    "\n",
    "#function 8\n",
    "def myfunc(*args):\n",
    "    return sum(args)\n",
    "\n",
    "#function 9 pick evens\n",
    "def myfunc(*args):\n",
    "   return [x for x in args if x % 2 == 0]\n",
    "\n",
    "#function 10 skyline\n",
    "\n",
    "    "
   ]
  }
 ],
 "metadata": {
  "kernelspec": {
   "display_name": "Python 3",
   "language": "python",
   "name": "python3"
  },
  "language_info": {
   "codemirror_mode": {
    "name": "ipython",
    "version": 3
   },
   "file_extension": ".py",
   "mimetype": "text/x-python",
   "name": "python",
   "nbconvert_exporter": "python",
   "pygments_lexer": "ipython3",
   "version": "3.7.3"
  }
 },
 "nbformat": 4,
 "nbformat_minor": 2
}
